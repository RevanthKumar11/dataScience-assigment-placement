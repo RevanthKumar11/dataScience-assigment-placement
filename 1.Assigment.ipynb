{
 "cells": [
  {
   "cell_type": "code",
   "execution_count": 1,
   "id": "00982aae",
   "metadata": {},
   "outputs": [],
   "source": [
    "import pandas as pd"
   ]
  },
  {
   "cell_type": "code",
   "execution_count": 2,
   "id": "5ead71eb",
   "metadata": {},
   "outputs": [
    {
     "data": {
      "text/html": [
       "<div>\n",
       "<style scoped>\n",
       "    .dataframe tbody tr th:only-of-type {\n",
       "        vertical-align: middle;\n",
       "    }\n",
       "\n",
       "    .dataframe tbody tr th {\n",
       "        vertical-align: top;\n",
       "    }\n",
       "\n",
       "    .dataframe thead th {\n",
       "        text-align: right;\n",
       "    }\n",
       "</style>\n",
       "<table border=\"1\" class=\"dataframe\">\n",
       "  <thead>\n",
       "    <tr style=\"text-align: right;\">\n",
       "      <th></th>\n",
       "      <th>gender</th>\n",
       "      <th>ssc_p</th>\n",
       "      <th>ssc_b</th>\n",
       "      <th>hsc_p</th>\n",
       "      <th>hsc_b</th>\n",
       "      <th>hsc_s</th>\n",
       "      <th>degree_p</th>\n",
       "      <th>degree_t</th>\n",
       "      <th>workex</th>\n",
       "      <th>etest_p</th>\n",
       "      <th>specialisation</th>\n",
       "      <th>mba_p</th>\n",
       "      <th>status</th>\n",
       "      <th>salary</th>\n",
       "    </tr>\n",
       "  </thead>\n",
       "  <tbody>\n",
       "    <tr>\n",
       "      <th>0</th>\n",
       "      <td>M</td>\n",
       "      <td>67.00</td>\n",
       "      <td>Others</td>\n",
       "      <td>91.00</td>\n",
       "      <td>Others</td>\n",
       "      <td>Commerce</td>\n",
       "      <td>58.00</td>\n",
       "      <td>Sci&amp;Tech</td>\n",
       "      <td>No</td>\n",
       "      <td>55.0</td>\n",
       "      <td>Mkt&amp;HR</td>\n",
       "      <td>58.80</td>\n",
       "      <td>Placed</td>\n",
       "      <td>270000.0</td>\n",
       "    </tr>\n",
       "    <tr>\n",
       "      <th>1</th>\n",
       "      <td>M</td>\n",
       "      <td>79.33</td>\n",
       "      <td>Central</td>\n",
       "      <td>78.33</td>\n",
       "      <td>Others</td>\n",
       "      <td>Science</td>\n",
       "      <td>77.48</td>\n",
       "      <td>Sci&amp;Tech</td>\n",
       "      <td>Yes</td>\n",
       "      <td>86.5</td>\n",
       "      <td>Mkt&amp;Fin</td>\n",
       "      <td>66.28</td>\n",
       "      <td>Placed</td>\n",
       "      <td>200000.0</td>\n",
       "    </tr>\n",
       "    <tr>\n",
       "      <th>2</th>\n",
       "      <td>M</td>\n",
       "      <td>65.00</td>\n",
       "      <td>Central</td>\n",
       "      <td>68.00</td>\n",
       "      <td>Central</td>\n",
       "      <td>Arts</td>\n",
       "      <td>64.00</td>\n",
       "      <td>Comm&amp;Mgmt</td>\n",
       "      <td>No</td>\n",
       "      <td>75.0</td>\n",
       "      <td>Mkt&amp;Fin</td>\n",
       "      <td>57.80</td>\n",
       "      <td>Placed</td>\n",
       "      <td>250000.0</td>\n",
       "    </tr>\n",
       "    <tr>\n",
       "      <th>3</th>\n",
       "      <td>M</td>\n",
       "      <td>56.00</td>\n",
       "      <td>Central</td>\n",
       "      <td>52.00</td>\n",
       "      <td>Central</td>\n",
       "      <td>Science</td>\n",
       "      <td>52.00</td>\n",
       "      <td>Sci&amp;Tech</td>\n",
       "      <td>No</td>\n",
       "      <td>66.0</td>\n",
       "      <td>Mkt&amp;HR</td>\n",
       "      <td>59.43</td>\n",
       "      <td>Not Placed</td>\n",
       "      <td>0.0</td>\n",
       "    </tr>\n",
       "    <tr>\n",
       "      <th>4</th>\n",
       "      <td>M</td>\n",
       "      <td>85.80</td>\n",
       "      <td>Central</td>\n",
       "      <td>73.60</td>\n",
       "      <td>Central</td>\n",
       "      <td>Commerce</td>\n",
       "      <td>73.30</td>\n",
       "      <td>Comm&amp;Mgmt</td>\n",
       "      <td>No</td>\n",
       "      <td>96.8</td>\n",
       "      <td>Mkt&amp;Fin</td>\n",
       "      <td>55.50</td>\n",
       "      <td>Placed</td>\n",
       "      <td>425000.0</td>\n",
       "    </tr>\n",
       "  </tbody>\n",
       "</table>\n",
       "</div>"
      ],
      "text/plain": [
       "  gender  ssc_p    ssc_b  hsc_p    hsc_b     hsc_s  degree_p   degree_t  \\\n",
       "0      M  67.00   Others  91.00   Others  Commerce     58.00   Sci&Tech   \n",
       "1      M  79.33  Central  78.33   Others   Science     77.48   Sci&Tech   \n",
       "2      M  65.00  Central  68.00  Central      Arts     64.00  Comm&Mgmt   \n",
       "3      M  56.00  Central  52.00  Central   Science     52.00   Sci&Tech   \n",
       "4      M  85.80  Central  73.60  Central  Commerce     73.30  Comm&Mgmt   \n",
       "\n",
       "  workex  etest_p specialisation  mba_p      status    salary  \n",
       "0     No     55.0         Mkt&HR  58.80      Placed  270000.0  \n",
       "1    Yes     86.5        Mkt&Fin  66.28      Placed  200000.0  \n",
       "2     No     75.0        Mkt&Fin  57.80      Placed  250000.0  \n",
       "3     No     66.0         Mkt&HR  59.43  Not Placed       0.0  \n",
       "4     No     96.8        Mkt&Fin  55.50      Placed  425000.0  "
      ]
     },
     "execution_count": 2,
     "metadata": {},
     "output_type": "execute_result"
    }
   ],
   "source": [
    "#dataSet\n",
    "dataSet = pd.read_csv('Placement.csv')\n",
    "dataSet = dataSet.drop(['sl_no'], axis = 1)\n",
    "dataSet.head()"
   ]
  },
  {
   "cell_type": "code",
   "execution_count": 3,
   "id": "5f86f247",
   "metadata": {},
   "outputs": [
    {
     "data": {
      "text/plain": [
       "(215, 14)"
      ]
     },
     "execution_count": 3,
     "metadata": {},
     "output_type": "execute_result"
    }
   ],
   "source": [
    "# check the rows and columns\n",
    "dataSet.shape"
   ]
  },
  {
   "cell_type": "markdown",
   "id": "8b7c1c89",
   "metadata": {},
   "source": [
    "## 1) Replace the NaN values with correct value. And justify why you havechosen the same\n",
    "why i choose the zero means some students are not placed that's only that place have null values.\n",
    "#so, i put the zero in salary columns"
   ]
  },
  {
   "cell_type": "code",
   "execution_count": 4,
   "id": "61fa0d32",
   "metadata": {},
   "outputs": [],
   "source": [
    "dataSet['salary'].fillna(0, inplace = True)"
   ]
  },
  {
   "cell_type": "code",
   "execution_count": 5,
   "id": "fdeec946",
   "metadata": {},
   "outputs": [
    {
     "data": {
      "text/plain": [
       "gender            0\n",
       "ssc_p             0\n",
       "ssc_b             0\n",
       "hsc_p             0\n",
       "hsc_b             0\n",
       "hsc_s             0\n",
       "degree_p          0\n",
       "degree_t          0\n",
       "workex            0\n",
       "etest_p           0\n",
       "specialisation    0\n",
       "mba_p             0\n",
       "status            0\n",
       "salary            0\n",
       "dtype: int64"
      ]
     },
     "execution_count": 5,
     "metadata": {},
     "output_type": "execute_result"
    }
   ],
   "source": [
    "# Now check the values\n",
    "dataSet.isnull().sum()"
   ]
  },
  {
   "cell_type": "markdown",
   "id": "50e30611",
   "metadata": {},
   "source": [
    "## 2) How many of them are not placed?\n",
    "sixty seven students are not placed in the company"
   ]
  },
  {
   "cell_type": "code",
   "execution_count": 6,
   "id": "a28c40b9",
   "metadata": {},
   "outputs": [],
   "source": [
    "notPlaced = dataSet[dataSet['status'] == 'Not Placed']"
   ]
  },
  {
   "cell_type": "code",
   "execution_count": 7,
   "id": "70d205cd",
   "metadata": {},
   "outputs": [
    {
     "data": {
      "text/plain": [
       "67"
      ]
     },
     "execution_count": 7,
     "metadata": {},
     "output_type": "execute_result"
    }
   ],
   "source": [
    "len(notPlaced['status'])"
   ]
  },
  {
   "cell_type": "markdown",
   "id": "4b34dd30",
   "metadata": {},
   "source": [
    "## 3) Find the reason for non placement from the dataset?\n",
    "In the mean result of placement and non placement. The placement students got more marks to the non placement students\n",
    "so, the non placement students got below (60 & 70) and there studies is poor"
   ]
  },
  {
   "cell_type": "code",
   "execution_count": 8,
   "id": "6366dcb0",
   "metadata": {},
   "outputs": [],
   "source": [
    "placement = dataSet[dataSet['status'] == 'Placed']\n",
    "nonplacement = dataSet[dataSet['status'] == 'Not Placed']"
   ]
  },
  {
   "cell_type": "code",
   "execution_count": 9,
   "id": "d7be70fa",
   "metadata": {},
   "outputs": [
    {
     "data": {
      "text/plain": [
       "ssc_p       57.544030\n",
       "hsc_p       58.598358\n",
       "degree_p    61.134179\n",
       "etest_p     69.587910\n",
       "mba_p       61.612836\n",
       "salary       0.000000\n",
       "dtype: float64"
      ]
     },
     "execution_count": 9,
     "metadata": {},
     "output_type": "execute_result"
    }
   ],
   "source": [
    "nonplacement.mean() # 50 to 70"
   ]
  },
  {
   "cell_type": "code",
   "execution_count": 10,
   "id": "18327eb9",
   "metadata": {},
   "outputs": [
    {
     "data": {
      "text/plain": [
       "ssc_p           71.721486\n",
       "hsc_p           69.837027\n",
       "degree_p        68.723649\n",
       "etest_p         73.238041\n",
       "mba_p           62.579392\n",
       "salary      287076.013514\n",
       "dtype: float64"
      ]
     },
     "execution_count": 10,
     "metadata": {},
     "output_type": "execute_result"
    }
   ],
   "source": [
    "placement.mean() # 60 to 80"
   ]
  },
  {
   "cell_type": "markdown",
   "id": "4de103cd",
   "metadata": {},
   "source": [
    "## 4)What kind of relation between salary and mba_p\n",
    "Relation between salary and mba_p is 0.141417 is postive value but is average postive value 😞.\n",
    "And its directly proportional"
   ]
  },
  {
   "cell_type": "code",
   "execution_count": 11,
   "id": "621051f5",
   "metadata": {},
   "outputs": [
    {
     "data": {
      "text/html": [
       "<div>\n",
       "<style scoped>\n",
       "    .dataframe tbody tr th:only-of-type {\n",
       "        vertical-align: middle;\n",
       "    }\n",
       "\n",
       "    .dataframe tbody tr th {\n",
       "        vertical-align: top;\n",
       "    }\n",
       "\n",
       "    .dataframe thead th {\n",
       "        text-align: right;\n",
       "    }\n",
       "</style>\n",
       "<table border=\"1\" class=\"dataframe\">\n",
       "  <thead>\n",
       "    <tr style=\"text-align: right;\">\n",
       "      <th></th>\n",
       "      <th>ssc_p</th>\n",
       "      <th>hsc_p</th>\n",
       "      <th>degree_p</th>\n",
       "      <th>etest_p</th>\n",
       "      <th>mba_p</th>\n",
       "      <th>salary</th>\n",
       "    </tr>\n",
       "  </thead>\n",
       "  <tbody>\n",
       "    <tr>\n",
       "      <th>ssc_p</th>\n",
       "      <td>1.000000</td>\n",
       "      <td>0.513478</td>\n",
       "      <td>0.538686</td>\n",
       "      <td>0.261993</td>\n",
       "      <td>0.388478</td>\n",
       "      <td>0.558475</td>\n",
       "    </tr>\n",
       "    <tr>\n",
       "      <th>hsc_p</th>\n",
       "      <td>0.513478</td>\n",
       "      <td>1.000000</td>\n",
       "      <td>0.434606</td>\n",
       "      <td>0.240775</td>\n",
       "      <td>0.348452</td>\n",
       "      <td>0.459424</td>\n",
       "    </tr>\n",
       "    <tr>\n",
       "      <th>degree_p</th>\n",
       "      <td>0.538686</td>\n",
       "      <td>0.434606</td>\n",
       "      <td>1.000000</td>\n",
       "      <td>0.227147</td>\n",
       "      <td>0.402376</td>\n",
       "      <td>0.423762</td>\n",
       "    </tr>\n",
       "    <tr>\n",
       "      <th>etest_p</th>\n",
       "      <td>0.261993</td>\n",
       "      <td>0.240775</td>\n",
       "      <td>0.227147</td>\n",
       "      <td>1.000000</td>\n",
       "      <td>0.218055</td>\n",
       "      <td>0.186775</td>\n",
       "    </tr>\n",
       "    <tr>\n",
       "      <th>mba_p</th>\n",
       "      <td>0.388478</td>\n",
       "      <td>0.348452</td>\n",
       "      <td>0.402376</td>\n",
       "      <td>0.218055</td>\n",
       "      <td>1.000000</td>\n",
       "      <td>0.141417</td>\n",
       "    </tr>\n",
       "    <tr>\n",
       "      <th>salary</th>\n",
       "      <td>0.558475</td>\n",
       "      <td>0.459424</td>\n",
       "      <td>0.423762</td>\n",
       "      <td>0.186775</td>\n",
       "      <td>0.141417</td>\n",
       "      <td>1.000000</td>\n",
       "    </tr>\n",
       "  </tbody>\n",
       "</table>\n",
       "</div>"
      ],
      "text/plain": [
       "             ssc_p     hsc_p  degree_p   etest_p     mba_p    salary\n",
       "ssc_p     1.000000  0.513478  0.538686  0.261993  0.388478  0.558475\n",
       "hsc_p     0.513478  1.000000  0.434606  0.240775  0.348452  0.459424\n",
       "degree_p  0.538686  0.434606  1.000000  0.227147  0.402376  0.423762\n",
       "etest_p   0.261993  0.240775  0.227147  1.000000  0.218055  0.186775\n",
       "mba_p     0.388478  0.348452  0.402376  0.218055  1.000000  0.141417\n",
       "salary    0.558475  0.459424  0.423762  0.186775  0.141417  1.000000"
      ]
     },
     "execution_count": 11,
     "metadata": {},
     "output_type": "execute_result"
    }
   ],
   "source": [
    "dataSet.corr()"
   ]
  },
  {
   "cell_type": "markdown",
   "id": "4683dd6a",
   "metadata": {},
   "source": [
    "## 5)Which specialization is getting minimum salary?\n",
    "The minimum salary of Mkt&HR is 200000.0 and also same salar getting Mkt&Fin "
   ]
  },
  {
   "cell_type": "code",
   "execution_count": 73,
   "id": "3f887c13",
   "metadata": {},
   "outputs": [],
   "source": [
    "specialisationSalary = dataSet[dataSet['salary'] != 0.0]"
   ]
  },
  {
   "cell_type": "code",
   "execution_count": 70,
   "id": "d648f0bf",
   "metadata": {},
   "outputs": [],
   "source": [
    "Mkt_HR = specialisationSalary[specialisationSalary['specialisation'] == 'Mkt&HR']\n",
    "Mkt_Fin = specialisationSalary[specialisationSalary['specialisation'] == 'Mkt&Fin']"
   ]
  },
  {
   "cell_type": "code",
   "execution_count": 71,
   "id": "9087dc93",
   "metadata": {},
   "outputs": [
    {
     "data": {
      "text/plain": [
       "200000.0"
      ]
     },
     "execution_count": 71,
     "metadata": {},
     "output_type": "execute_result"
    }
   ],
   "source": [
    "Mkt_HR['salary'].min()"
   ]
  },
  {
   "cell_type": "code",
   "execution_count": 72,
   "id": "a3d51925",
   "metadata": {},
   "outputs": [
    {
     "data": {
      "text/plain": [
       "200000.0"
      ]
     },
     "execution_count": 72,
     "metadata": {},
     "output_type": "execute_result"
    }
   ],
   "source": [
    "Mkt_Fin['salary'].min()"
   ]
  },
  {
   "cell_type": "markdown",
   "id": "4888047c",
   "metadata": {},
   "source": [
    "## 6)How many of them getting above 500000 salary?\n",
    "Only three students getting above 500000 salary"
   ]
  },
  {
   "cell_type": "code",
   "execution_count": 14,
   "id": "406ca4f7",
   "metadata": {},
   "outputs": [
    {
     "name": "stderr",
     "output_type": "stream",
     "text": [
      "C:\\Users\\REVANTH KUMAR\\Anaconda3\\envs\\hopeAi\\lib\\site-packages\\ipykernel_launcher.py:2: UserWarning: Boolean Series key will be reindexed to match DataFrame index.\n",
      "  \n"
     ]
    }
   ],
   "source": [
    "Placed = dataSet[dataSet['status'] == 'Placed']\n",
    "above_5L = Placed[dataSet['salary'] > 500000]"
   ]
  },
  {
   "cell_type": "code",
   "execution_count": 15,
   "id": "89c1d86a",
   "metadata": {},
   "outputs": [
    {
     "data": {
      "text/html": [
       "<div>\n",
       "<style scoped>\n",
       "    .dataframe tbody tr th:only-of-type {\n",
       "        vertical-align: middle;\n",
       "    }\n",
       "\n",
       "    .dataframe tbody tr th {\n",
       "        vertical-align: top;\n",
       "    }\n",
       "\n",
       "    .dataframe thead th {\n",
       "        text-align: right;\n",
       "    }\n",
       "</style>\n",
       "<table border=\"1\" class=\"dataframe\">\n",
       "  <thead>\n",
       "    <tr style=\"text-align: right;\">\n",
       "      <th></th>\n",
       "      <th>gender</th>\n",
       "      <th>ssc_p</th>\n",
       "      <th>ssc_b</th>\n",
       "      <th>hsc_p</th>\n",
       "      <th>hsc_b</th>\n",
       "      <th>hsc_s</th>\n",
       "      <th>degree_p</th>\n",
       "      <th>degree_t</th>\n",
       "      <th>workex</th>\n",
       "      <th>etest_p</th>\n",
       "      <th>specialisation</th>\n",
       "      <th>mba_p</th>\n",
       "      <th>status</th>\n",
       "      <th>salary</th>\n",
       "    </tr>\n",
       "  </thead>\n",
       "  <tbody>\n",
       "    <tr>\n",
       "      <th>119</th>\n",
       "      <td>M</td>\n",
       "      <td>60.8</td>\n",
       "      <td>Central</td>\n",
       "      <td>68.40</td>\n",
       "      <td>Central</td>\n",
       "      <td>Commerce</td>\n",
       "      <td>64.6</td>\n",
       "      <td>Comm&amp;Mgmt</td>\n",
       "      <td>Yes</td>\n",
       "      <td>82.66</td>\n",
       "      <td>Mkt&amp;Fin</td>\n",
       "      <td>64.34</td>\n",
       "      <td>Placed</td>\n",
       "      <td>706250.0</td>\n",
       "    </tr>\n",
       "    <tr>\n",
       "      <th>150</th>\n",
       "      <td>M</td>\n",
       "      <td>71.0</td>\n",
       "      <td>Central</td>\n",
       "      <td>58.66</td>\n",
       "      <td>Central</td>\n",
       "      <td>Science</td>\n",
       "      <td>58.0</td>\n",
       "      <td>Sci&amp;Tech</td>\n",
       "      <td>Yes</td>\n",
       "      <td>56.00</td>\n",
       "      <td>Mkt&amp;Fin</td>\n",
       "      <td>61.30</td>\n",
       "      <td>Placed</td>\n",
       "      <td>690000.0</td>\n",
       "    </tr>\n",
       "    <tr>\n",
       "      <th>177</th>\n",
       "      <td>F</td>\n",
       "      <td>73.0</td>\n",
       "      <td>Central</td>\n",
       "      <td>91.15</td>\n",
       "      <td>Others</td>\n",
       "      <td>Commerce</td>\n",
       "      <td>79.0</td>\n",
       "      <td>Comm&amp;Mgmt</td>\n",
       "      <td>Yes</td>\n",
       "      <td>89.00</td>\n",
       "      <td>Mkt&amp;Fin</td>\n",
       "      <td>70.81</td>\n",
       "      <td>Placed</td>\n",
       "      <td>650000.0</td>\n",
       "    </tr>\n",
       "  </tbody>\n",
       "</table>\n",
       "</div>"
      ],
      "text/plain": [
       "    gender  ssc_p    ssc_b  hsc_p    hsc_b     hsc_s  degree_p   degree_t  \\\n",
       "119      M   60.8  Central  68.40  Central  Commerce      64.6  Comm&Mgmt   \n",
       "150      M   71.0  Central  58.66  Central   Science      58.0   Sci&Tech   \n",
       "177      F   73.0  Central  91.15   Others  Commerce      79.0  Comm&Mgmt   \n",
       "\n",
       "    workex  etest_p specialisation  mba_p  status    salary  \n",
       "119    Yes    82.66        Mkt&Fin  64.34  Placed  706250.0  \n",
       "150    Yes    56.00        Mkt&Fin  61.30  Placed  690000.0  \n",
       "177    Yes    89.00        Mkt&Fin  70.81  Placed  650000.0  "
      ]
     },
     "execution_count": 15,
     "metadata": {},
     "output_type": "execute_result"
    }
   ],
   "source": [
    "above_5L"
   ]
  },
  {
   "cell_type": "markdown",
   "id": "fc3105ac",
   "metadata": {},
   "source": [
    "## 7)Test the Analysis of Variance between etest_p and mba_p at signifancelevel 5%.(Make decision using Hypothesis Testing)\n",
    "There is no significant difference in one way analysis\n",
    "46%"
   ]
  },
  {
   "cell_type": "code",
   "execution_count": 16,
   "id": "9eb5be30",
   "metadata": {},
   "outputs": [
    {
     "data": {
      "text/plain": [
       "F_onewayResult(statistic=98.64487057324706, pvalue=4.672547689133573e-21)"
      ]
     },
     "execution_count": 16,
     "metadata": {},
     "output_type": "execute_result"
    }
   ],
   "source": [
    "import scipy.stats as stats \n",
    "stats.f_oneway(dataSet['etest_p'], dataSet['mba_p'])"
   ]
  },
  {
   "cell_type": "code",
   "execution_count": 17,
   "id": "f7ab098e",
   "metadata": {},
   "outputs": [],
   "source": [
    "# H0 : There is no significant difference\n",
    "# H1 : There is significant difference"
   ]
  },
  {
   "cell_type": "code",
   "execution_count": 18,
   "id": "3797feb0",
   "metadata": {},
   "outputs": [],
   "source": [
    "# There is no significant difference in one way analysis"
   ]
  },
  {
   "cell_type": "markdown",
   "id": "69861e06",
   "metadata": {},
   "source": [
    "## 8)Test the similarity between the degree_t(Sci&Tech) and specialisa-tion(Mkt&HR) with respect to salary at significance level of 5%.(Makedecision using Hypothesis Testing)\n",
    "This is Independant Sample. Different group same condition. There is zero significant"
   ]
  },
  {
   "cell_type": "code",
   "execution_count": 19,
   "id": "bfca5849",
   "metadata": {},
   "outputs": [
    {
     "data": {
      "text/plain": [
       "Ttest_indResult(statistic=2.692041243555374, pvalue=0.007897969943471179)"
      ]
     },
     "execution_count": 19,
     "metadata": {},
     "output_type": "execute_result"
    }
   ],
   "source": [
    "from scipy.stats import ttest_ind\n",
    "Sci_Tech = dataSet[dataSet['degree_t'] == 'Sci&Tech']['salary']\n",
    "Mkt_HR = dataSet[dataSet['specialisation'] == 'Mkt&HR']['salary']\n",
    "ttest_ind(Sci_Tech, Mkt_HR)"
   ]
  },
  {
   "cell_type": "markdown",
   "id": "2d7c0ac4",
   "metadata": {},
   "source": [
    "## 9)Convert the normal distribution to standard normal distribution for salary column"
   ]
  },
  {
   "cell_type": "code",
   "execution_count": 20,
   "id": "c0b65026",
   "metadata": {},
   "outputs": [],
   "source": [
    "import seaborn as sns"
   ]
  },
  {
   "cell_type": "code",
   "execution_count": 21,
   "id": "fd39d08a",
   "metadata": {},
   "outputs": [
    {
     "name": "stderr",
     "output_type": "stream",
     "text": [
      "C:\\Users\\REVANTH KUMAR\\Anaconda3\\envs\\hopeAi\\lib\\site-packages\\ipykernel_launcher.py:1: UserWarning: \n",
      "\n",
      "`distplot` is a deprecated function and will be removed in seaborn v0.14.0.\n",
      "\n",
      "Please adapt your code to use either `displot` (a figure-level function with\n",
      "similar flexibility) or `histplot` (an axes-level function for histograms).\n",
      "\n",
      "For a guide to updating your code to use the new functions, please see\n",
      "https://gist.github.com/mwaskom/de44147ed2974457ad6372750bbe5751\n",
      "\n",
      "  \"\"\"Entry point for launching an IPython kernel.\n"
     ]
    },
    {
     "data": {
      "text/plain": [
       "<matplotlib.axes._subplots.AxesSubplot at 0x15190410a88>"
      ]
     },
     "execution_count": 21,
     "metadata": {},
     "output_type": "execute_result"
    },
    {
     "data": {
      "image/png": "[encoded data removed]",
      "text/plain": [
       "<Figure size 640x480 with 1 Axes>"
      ]
     },
     "metadata": {},
     "output_type": "display_data"
    }
   ],
   "source": [
    "sns.distplot(dataSet['salary'])"
   ]
  },
  {
   "cell_type": "code",
   "execution_count": 22,
   "id": "2e058167",
   "metadata": {},
   "outputs": [],
   "source": [
    "# standard normal distribution\n",
    "def stdNBgraht(dataSet):\n",
    "    import seaborn as sns\n",
    "    mean = dataSet.mean()\n",
    "    std = dataSet.std()\n",
    "    \n",
    "    values = [i for i in dataSet]\n",
    "    \n",
    "    z_score = [((j-mean) / std) for j in values]\n",
    "    \n",
    "    sns.distplot(z_score, kde=True)\n",
    "    \n",
    "    sum(z_score)/len(z_score)"
   ]
  },
  {
   "cell_type": "code",
   "execution_count": 23,
   "id": "2c176cda",
   "metadata": {},
   "outputs": [
    {
     "name": "stderr",
     "output_type": "stream",
     "text": [
      "C:\\Users\\REVANTH KUMAR\\Anaconda3\\envs\\hopeAi\\lib\\site-packages\\ipykernel_launcher.py:11: UserWarning: \n",
      "\n",
      "`distplot` is a deprecated function and will be removed in seaborn v0.14.0.\n",
      "\n",
      "Please adapt your code to use either `displot` (a figure-level function with\n",
      "similar flexibility) or `histplot` (an axes-level function for histograms).\n",
      "\n",
      "For a guide to updating your code to use the new functions, please see\n",
      "https://gist.github.com/mwaskom/de44147ed2974457ad6372750bbe5751\n",
      "\n",
      "  # This is added back by InteractiveShellApp.init_path()\n"
     ]
    },
    {
     "data": {
      "image/png": "[encoded data removed]",
      "text/plain": [
       "<Figure size 640x480 with 1 Axes>"
      ]
     },
     "metadata": {},
     "output_type": "display_data"
    }
   ],
   "source": [
    "stdNBgraht(dataSet['salary'])"
   ]
  },
  {
   "cell_type": "markdown",
   "id": "90296ff8",
   "metadata": {},
   "source": [
    "## 10)What is the probability Density Function of the salary range from700000 to 900000?\n",
    "The probability density of the salary range from 700000 to 900000 is 0.0004137812663830059.\n",
    "### 0%"
   ]
  },
  {
   "cell_type": "code",
   "execution_count": 24,
   "id": "61a3ff7e",
   "metadata": {},
   "outputs": [],
   "source": [
    "def get_pdf_probability(dataSet, startRange, endRange):\n",
    "    from matplotlib import pyplot\n",
    "    from scipy.stats import norm\n",
    "    import seaborn as sns\n",
    "    ax = sns.distplot(dataSet, kde= True, kde_kws={'color':'blue'}, color='Green')\n",
    "    pyplot.axvline(startRange, color='Red')\n",
    "    pyplot.axvline(endRange, color='Red')\n",
    "    sample = dataSet\n",
    "    sample_mean = sample.mean()\n",
    "    sample_std = sample.std()\n",
    "    print('mean= %.3f, Standard deviation=%.3f' % (sample_mean, sample_std))\n",
    "    dist = norm(sample_mean, sample_std)\n",
    "    values = [value for value in range(startRange, endRange)]\n",
    "    probabilities = [dist.pdf(value) for value in values]\n",
    "    prob = sum(probabilities)\n",
    "    print('the area between range({},{}):{}'.format(startRange, endRange, sum(probabilities)))\n",
    "    return prob"
   ]
  },
  {
   "cell_type": "code",
   "execution_count": 25,
   "id": "7d759b97",
   "metadata": {},
   "outputs": [
    {
     "name": "stderr",
     "output_type": "stream",
     "text": [
      "C:\\Users\\REVANTH KUMAR\\Anaconda3\\envs\\hopeAi\\lib\\site-packages\\ipykernel_launcher.py:5: UserWarning: \n",
      "\n",
      "`distplot` is a deprecated function and will be removed in seaborn v0.14.0.\n",
      "\n",
      "Please adapt your code to use either `displot` (a figure-level function with\n",
      "similar flexibility) or `histplot` (an axes-level function for histograms).\n",
      "\n",
      "For a guide to updating your code to use the new functions, please see\n",
      "https://gist.github.com/mwaskom/de44147ed2974457ad6372750bbe5751\n",
      "\n",
      "  \"\"\"\n"
     ]
    },
    {
     "name": "stdout",
     "output_type": "stream",
     "text": [
      "mean= 197615.116, Standard deviation=150305.844\n",
      "the area between range(700000,900000):0.0004137812663830048\n"
     ]
    },
    {
     "data": {
      "text/plain": [
       "0.0004137812663830048"
      ]
     },
     "execution_count": 25,
     "metadata": {},
     "output_type": "execute_result"
    },
    {
     "data": {
      "image/png": "[encoded data removed]",
      "text/plain": [
       "<Figure size 640x480 with 1 Axes>"
      ]
     },
     "metadata": {},
     "output_type": "display_data"
    }
   ],
   "source": [
    "get_pdf_probability(dataSet['salary'], 700000, 900000)"
   ]
  },
  {
   "cell_type": "markdown",
   "id": "9f5686ef",
   "metadata": {},
   "source": [
    "## 11)Test the similarity between the degree_t(Sci&Tech) with respect to etest_p and mba_p at significance level of 5%.(Make decision using Hy-pothesis Testing)\n",
    "Dependant Sample - paired T Test because same group different condition\n",
    "#### There is no significant difference\n",
    "#### p-value is 5.51"
   ]
  },
  {
   "cell_type": "code",
   "execution_count": 26,
   "id": "4c56b370",
   "metadata": {},
   "outputs": [
    {
     "data": {
      "text/plain": [
       "Ttest_relResult(statistic=5.0049844583693615, pvalue=5.517920600505392e-06)"
      ]
     },
     "execution_count": 26,
     "metadata": {},
     "output_type": "execute_result"
    }
   ],
   "source": [
    "from scipy.stats import ttest_rel\n",
    "sci_TechOne = dataSet[dataSet['degree_t'] == 'Sci&Tech']['etest_p']\n",
    "sci_TechTwo = dataSet[dataSet['degree_t'] == 'Sci&Tech']['mba_p']\n",
    "ttest_rel(sci_TechOne,sci_TechTwo)"
   ]
  },
  {
   "cell_type": "code",
   "execution_count": 27,
   "id": "b4b783df",
   "metadata": {},
   "outputs": [],
   "source": [
    "# H0 : There is no significant difference\n",
    "# H0 : There is significant difference"
   ]
  },
  {
   "cell_type": "markdown",
   "id": "7cac8de0",
   "metadata": {},
   "source": [
    "## 12)Which parameter is highly correlated with salary?\n",
    "#### The  ssc_p and salary parameter is highly correlated"
   ]
  },
  {
   "cell_type": "code",
   "execution_count": 28,
   "id": "1b2ef2d2",
   "metadata": {},
   "outputs": [
    {
     "data": {
      "text/html": [
       "<div>\n",
       "<style scoped>\n",
       "    .dataframe tbody tr th:only-of-type {\n",
       "        vertical-align: middle;\n",
       "    }\n",
       "\n",
       "    .dataframe tbody tr th {\n",
       "        vertical-align: top;\n",
       "    }\n",
       "\n",
       "    .dataframe thead th {\n",
       "        text-align: right;\n",
       "    }\n",
       "</style>\n",
       "<table border=\"1\" class=\"dataframe\">\n",
       "  <thead>\n",
       "    <tr style=\"text-align: right;\">\n",
       "      <th></th>\n",
       "      <th>ssc_p</th>\n",
       "      <th>hsc_p</th>\n",
       "      <th>degree_p</th>\n",
       "      <th>etest_p</th>\n",
       "      <th>mba_p</th>\n",
       "      <th>salary</th>\n",
       "    </tr>\n",
       "  </thead>\n",
       "  <tbody>\n",
       "    <tr>\n",
       "      <th>ssc_p</th>\n",
       "      <td>1.000000</td>\n",
       "      <td>0.513478</td>\n",
       "      <td>0.538686</td>\n",
       "      <td>0.261993</td>\n",
       "      <td>0.388478</td>\n",
       "      <td>0.558475</td>\n",
       "    </tr>\n",
       "    <tr>\n",
       "      <th>hsc_p</th>\n",
       "      <td>0.513478</td>\n",
       "      <td>1.000000</td>\n",
       "      <td>0.434606</td>\n",
       "      <td>0.240775</td>\n",
       "      <td>0.348452</td>\n",
       "      <td>0.459424</td>\n",
       "    </tr>\n",
       "    <tr>\n",
       "      <th>degree_p</th>\n",
       "      <td>0.538686</td>\n",
       "      <td>0.434606</td>\n",
       "      <td>1.000000</td>\n",
       "      <td>0.227147</td>\n",
       "      <td>0.402376</td>\n",
       "      <td>0.423762</td>\n",
       "    </tr>\n",
       "    <tr>\n",
       "      <th>etest_p</th>\n",
       "      <td>0.261993</td>\n",
       "      <td>0.240775</td>\n",
       "      <td>0.227147</td>\n",
       "      <td>1.000000</td>\n",
       "      <td>0.218055</td>\n",
       "      <td>0.186775</td>\n",
       "    </tr>\n",
       "    <tr>\n",
       "      <th>mba_p</th>\n",
       "      <td>0.388478</td>\n",
       "      <td>0.348452</td>\n",
       "      <td>0.402376</td>\n",
       "      <td>0.218055</td>\n",
       "      <td>1.000000</td>\n",
       "      <td>0.141417</td>\n",
       "    </tr>\n",
       "    <tr>\n",
       "      <th>salary</th>\n",
       "      <td>0.558475</td>\n",
       "      <td>0.459424</td>\n",
       "      <td>0.423762</td>\n",
       "      <td>0.186775</td>\n",
       "      <td>0.141417</td>\n",
       "      <td>1.000000</td>\n",
       "    </tr>\n",
       "  </tbody>\n",
       "</table>\n",
       "</div>"
      ],
      "text/plain": [
       "             ssc_p     hsc_p  degree_p   etest_p     mba_p    salary\n",
       "ssc_p     1.000000  0.513478  0.538686  0.261993  0.388478  0.558475\n",
       "hsc_p     0.513478  1.000000  0.434606  0.240775  0.348452  0.459424\n",
       "degree_p  0.538686  0.434606  1.000000  0.227147  0.402376  0.423762\n",
       "etest_p   0.261993  0.240775  0.227147  1.000000  0.218055  0.186775\n",
       "mba_p     0.388478  0.348452  0.402376  0.218055  1.000000  0.141417\n",
       "salary    0.558475  0.459424  0.423762  0.186775  0.141417  1.000000"
      ]
     },
     "execution_count": 28,
     "metadata": {},
     "output_type": "execute_result"
    }
   ],
   "source": [
    "dataSet.corr()"
   ]
  },
  {
   "cell_type": "code",
   "execution_count": 29,
   "id": "b23569be",
   "metadata": {},
   "outputs": [
    {
     "data": {
      "image/png": "[encoded data removed]",
      "text/plain": [
       "<Figure size 1000x800 with 2 Axes>"
      ]
     },
     "metadata": {},
     "output_type": "display_data"
    }
   ],
   "source": [
    "import seaborn as sns\n",
    "import matplotlib.pyplot as plt\n",
    "plt.figure(figsize=(10,8))\n",
    "dataplot = sns.heatmap(dataSet.corr(), cmap=\"rocket\", annot=True)\n",
    "plt.show()"
   ]
  },
  {
   "cell_type": "markdown",
   "id": "624e5e45",
   "metadata": {},
   "source": [
    "## 13) plot any useful graph and explain it."
   ]
  },
  {
   "cell_type": "code",
   "execution_count": 30,
   "id": "4b75e198",
   "metadata": {},
   "outputs": [
    {
     "name": "stderr",
     "output_type": "stream",
     "text": [
      "C:\\Users\\REVANTH KUMAR\\Anaconda3\\envs\\hopeAi\\lib\\site-packages\\ipykernel_launcher.py:2: UserWarning: \n",
      "\n",
      "`distplot` is a deprecated function and will be removed in seaborn v0.14.0.\n",
      "\n",
      "Please adapt your code to use either `displot` (a figure-level function with\n",
      "similar flexibility) or `histplot` (an axes-level function for histograms).\n",
      "\n",
      "For a guide to updating your code to use the new functions, please see\n",
      "https://gist.github.com/mwaskom/de44147ed2974457ad6372750bbe5751\n",
      "\n",
      "  \n"
     ]
    },
    {
     "data": {
      "text/plain": [
       "<matplotlib.axes._subplots.AxesSubplot at 0x15194871048>"
      ]
     },
     "execution_count": 30,
     "metadata": {},
     "output_type": "execute_result"
    },
    {
     "data": {
      "image/png": "[encoded data removed]",
      "text/plain": [
       "<Figure size 640x480 with 1 Axes>"
      ]
     },
     "metadata": {},
     "output_type": "display_data"
    }
   ],
   "source": [
    "import seaborn as sns\n",
    "sns.distplot(dataSet['salary'])"
   ]
  },
  {
   "cell_type": "code",
   "execution_count": null,
   "id": "836beb00",
   "metadata": {},
   "outputs": [],
   "source": []
  },
  {
   "cell_type": "code",
   "execution_count": null,
   "id": "fb83fa6c",
   "metadata": {},
   "outputs": [],
   "source": []
  }
 ],
 "metadata": {
  "kernelspec": {
   "display_name": "Python 3 (ipykernel)",
   "language": "python",
   "name": "python3"
  },
  "language_info": {
   "codemirror_mode": {
    "name": "ipython",
    "version": 3
   },
   "file_extension": ".py",
   "mimetype": "text/x-python",
   "name": "python",
   "nbconvert_exporter": "python",
   "pygments_lexer": "ipython3",
   "version": "3.7.6"
  }
 },
 "nbformat": 4,
 "nbformat_minor": 5
}
